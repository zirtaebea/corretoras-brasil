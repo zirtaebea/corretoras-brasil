{
 "cells": [
  {
   "cell_type": "code",
   "execution_count": 1,
   "metadata": {},
   "outputs": [],
   "source": [
    "# * ----------------- IMPORTANDO BIBLIOTECAS\n",
    "\n",
    "import requests\n",
    "import functions as fun\n",
    "import pandas as pd"
   ]
  },
  {
   "cell_type": "markdown",
   "metadata": {},
   "source": [
    "## Acessando APIs\n",
    "- Criação da lista de erro/APIs indisponíveis\n",
    "- Retornando dados obtidos\n",
    "- Tratamento inicial para moldar a tabela"
   ]
  },
  {
   "cell_type": "code",
   "execution_count": 2,
   "metadata": {},
   "outputs": [],
   "source": [
    "# LISTA DE ERRO\n",
    "# lista para armazenar os nomes das APIs que não foram carregadas com sucesso\n",
    "api_erro = []\n",
    "\n",
    "\n",
    "# URL DAS APIS\n",
    "# corretoras\n",
    "resp_corretoras = \"https://brasilapi.com.br/api/cvm/corretoras/v1\"\n",
    "\n",
    "# estados\n",
    "resp_estados = \"https://brasilapi.com.br/api/ibge/uf/v1\"\n",
    "\n",
    "\n",
    "# RETORNANDO DADOS DAS APIS\n",
    "\n",
    "# pegando dados API municipios do IBGE\n",
    "# definindo lista de municipios para armazenar os dados da api de municípios\n",
    "dados_municipios = []\n",
    "\n",
    "# a api de municípios é necessita de uma chave para ser chamada (a sigla da unidade federativa)\n",
    "# lista de siglas das unidades federativas para inserir na url da api e gerar dados dos municipios\n",
    "siglas_uf = ['RO', 'AC', 'AM', 'RR', 'PA', 'AP', 'TO', 'MA', 'PI',\n",
    "             'CE', 'RN', 'PB', 'PE', 'AL', 'SE', 'BA', 'MG',\n",
    "             'ES', 'RJ', 'SP', 'PR', 'SC', 'RS', 'MS', 'MT', 'GO', 'DF']\n",
    "\n",
    "# iterador de siglas para poder acessar os dados de município de cada uf\n",
    "# para cada uf na lista siglas_uf\n",
    "for uf in siglas_uf:\n",
    "    # foi feita uma função cujo objetivo é retornar os dados da api\n",
    "    # armazenando os dados da função (que recebe a uf dentro da lista de siglas_uf)\n",
    "    muni_uf = fun.retorna_municipios(uf)\n",
    "    # para cada cidade presente na lista muni_uf\n",
    "    for cidade in muni_uf:\n",
    "        # criando coluna uf para adicionar a lista de dados da api\n",
    "        cidade['uf'] = uf\n",
    "        # fazendo um append de todos os municipios de cada uf na lista dados_municipio\n",
    "        dados_municipios.append(muni_uf)\n",
    "\n",
    "# tratando lista dados municipios para tirar dados aninhados\n",
    "data_municipios = fun.trata_municipio(dados_municipios)"
   ]
  },
  {
   "cell_type": "markdown",
   "metadata": {},
   "source": [
    "## Verificação das APIs\n",
    "- Se a API estiver indisponível, aparecerá uma mensagem de erro. "
   ]
  },
  {
   "cell_type": "code",
   "execution_count": 4,
   "metadata": {},
   "outputs": [],
   "source": [
    "# corretoras\n",
    "fun.verificar_api(resp_corretoras, \"Corretoras\", api_erro)\n",
    "\n",
    "# estados\n",
    "fun.verificar_api(resp_estados, \"Estados\", api_erro)\n",
    "\n",
    "# se uma das apis (corretoras ou estado) estiver indisponível:\n",
    "if api_erro:\n",
    "    fun.api_indisponivel(api_erro)\n",
    "# se não, armazene os dados nessas variáveis:\n",
    "else:\n",
    "    data_corretoras = requests.get(resp_corretoras).json()\n",
    "    data_estados = requests.get(resp_estados).json()"
   ]
  },
  {
   "cell_type": "markdown",
   "metadata": {},
   "source": [
    "## Armazenamento dos dados brutos\n",
    "- Criação de dataframes para cada base\n",
    "- Bases CSV brutas"
   ]
  },
  {
   "cell_type": "code",
   "execution_count": 5,
   "metadata": {},
   "outputs": [],
   "source": [
    "# COLOCANDO DADOS DAS APIS EM DATAFRAMES\n",
    "# corretoras\n",
    "corretoras = pd.DataFrame(data_corretoras)\n",
    "\n",
    "# estados\n",
    "estados = pd.DataFrame(data_estados)\n",
    "\n",
    "# municipios\n",
    "municipios = pd.DataFrame(data_municipios)\n",
    "\n",
    "\n",
    "# SALVANDO BASES BRUTAS .CSV\n",
    "# corretoras\n",
    "corretoras.to_csv('01_csv_files/dados_brutos/corretoras_bruto.csv')\n",
    "\n",
    "# estados\n",
    "estados.to_csv('01_csv_files/dados_brutos/estados_bruto.csv')\n",
    "\n",
    "# municipios\n",
    "municipios.to_csv('01_csv_files/dados_brutos/municipios_bruto.csv')"
   ]
  },
  {
   "cell_type": "markdown",
   "metadata": {},
   "source": [
    "## Tratamento dos dados\n",
    "- Verifiação da formatação dos dataframes\n",
    "- Identificação das inconsistências em cada df\n",
    "- Tratamento individual das bases"
   ]
  },
  {
   "cell_type": "code",
   "execution_count": 6,
   "metadata": {},
   "outputs": [
    {
     "name": "stdout",
     "output_type": "stream",
     "text": [
      "<class 'pandas.core.frame.DataFrame'>\n",
      "RangeIndex: 374 entries, 0 to 373\n",
      "Data columns (total 19 columns):\n",
      " #   Column                    Non-Null Count  Dtype \n",
      "---  ------                    --------------  ----- \n",
      " 0   cnpj                      374 non-null    object\n",
      " 1   type                      374 non-null    object\n",
      " 2   nome_social               374 non-null    object\n",
      " 3   nome_comercial            374 non-null    object\n",
      " 4   status                    374 non-null    object\n",
      " 5   email                     374 non-null    object\n",
      " 6   telefone                  374 non-null    object\n",
      " 7   cep                       374 non-null    object\n",
      " 8   pais                      374 non-null    object\n",
      " 9   uf                        374 non-null    object\n",
      " 10  municipio                 374 non-null    object\n",
      " 11  bairro                    374 non-null    object\n",
      " 12  complemento               374 non-null    object\n",
      " 13  logradouro                374 non-null    object\n",
      " 14  data_patrimonio_liquido   374 non-null    object\n",
      " 15  valor_patrimonio_liquido  374 non-null    object\n",
      " 16  codigo_cvm                374 non-null    object\n",
      " 17  data_inicio_situacao      374 non-null    object\n",
      " 18  data_registro             374 non-null    object\n",
      "dtypes: object(19)\n",
      "memory usage: 55.6+ KB\n"
     ]
    }
   ],
   "source": [
    "\n",
    "# VERIFICAÇÃO DE DADOS\n",
    "# CORRETORAS\n",
    "corretoras.info()"
   ]
  },
  {
   "cell_type": "code",
   "execution_count": 7,
   "metadata": {},
   "outputs": [
    {
     "name": "stdout",
     "output_type": "stream",
     "text": [
      "<class 'pandas.core.frame.DataFrame'>\n",
      "RangeIndex: 27 entries, 0 to 26\n",
      "Data columns (total 4 columns):\n",
      " #   Column  Non-Null Count  Dtype \n",
      "---  ------  --------------  ----- \n",
      " 0   id      27 non-null     int64 \n",
      " 1   sigla   27 non-null     object\n",
      " 2   nome    27 non-null     object\n",
      " 3   regiao  27 non-null     object\n",
      "dtypes: int64(1), object(3)\n",
      "memory usage: 996.0+ bytes\n"
     ]
    }
   ],
   "source": [
    "# ESTADOS\n",
    "estados.info()"
   ]
  },
  {
   "cell_type": "code",
   "execution_count": 8,
   "metadata": {},
   "outputs": [
    {
     "name": "stdout",
     "output_type": "stream",
     "text": [
      "<class 'pandas.core.frame.DataFrame'>\n",
      "RangeIndex: 2218508 entries, 0 to 2218507\n",
      "Data columns (total 3 columns):\n",
      " #   Column       Dtype \n",
      "---  ------       ----- \n",
      " 0   uf           object\n",
      " 1   nome         object\n",
      " 2   codigo_ibge  object\n",
      "dtypes: object(3)\n",
      "memory usage: 50.8+ MB\n"
     ]
    }
   ],
   "source": [
    "# MUNICIPIOS\n",
    "municipios.info()"
   ]
  },
  {
   "cell_type": "markdown",
   "metadata": {},
   "source": [
    "### Corretoras\n",
    "- Eliminação de missing values\n",
    "- Tratamento de campos vazios\n",
    "- Eliminação de colunas com muita inconsistência\n",
    "- Transformação de valores (int para float, string para date)\n",
    "- Remoção de caracteres especiais\n",
    "- Transformação de campos string em maiúsculo\n",
    "- Remoção de duplicatas"
   ]
  },
  {
   "cell_type": "code",
   "execution_count": 10,
   "metadata": {},
   "outputs": [
    {
     "name": "stderr",
     "output_type": "stream",
     "text": [
      "/home/bgsantos/Documentos/corretoras-brasil/functions.py:171: SettingWithCopyWarning: \n",
      "A value is trying to be set on a copy of a slice from a DataFrame.\n",
      "Try using .loc[row_indexer,col_indexer] = value instead\n",
      "\n",
      "See the caveats in the documentation: https://pandas.pydata.org/pandas-docs/stable/user_guide/indexing.html#returning-a-view-versus-a-copy\n",
      "  data[coluna] = data[coluna].astype(str)\n"
     ]
    }
   ],
   "source": [
    "# transformando dados de data de string para datetime\n",
    "fun.string_data(corretoras)\n",
    "\n",
    "# COLUNA 'telefone':\n",
    "# eliminando linhas que não possuem números de telefone\n",
    "fun.string_vazia(corretoras, 'telefone')  # * 41 campos em branco\n",
    "\n",
    "# transformando coluna para tipo int\n",
    "fun.transforma_int(corretoras, 'telefone')\n",
    "\n",
    "# eliminando vazios\n",
    "corretoras_tratado = fun.elimina_vazios_int(corretoras, 'telefone')\n",
    "\n",
    "# eliminando números com menos de 7 digitos\n",
    "corretoras_tratado = fun.elimina_tel(corretoras_tratado, 'telefone')\n",
    "\n",
    "# adicionando o número 3 em telefones que possuem 7 digitos\n",
    "corretoras_tratado = fun.adiciona_3_telefone(corretoras_tratado, 'telefone')\n",
    "\n",
    "\n",
    "# COLUNA 'email', 'complemento', 'bairro', 'type', 'pais', 'cep':\n",
    "# dropando colunas com muitos missing values não essenciais para a análise\n",
    "corretoras_tratado = corretoras_tratado.drop(\n",
    "    ['email', 'complemento', 'bairro', 'type', 'pais', 'cep'], axis=1)\n",
    "corretoras_tratado.reset_index(drop=True, inplace=True)\n",
    "\n",
    "\n",
    "# COLUNA 'cnpj':\n",
    "# transformar para int\n",
    "fun.transforma_int(corretoras_tratado, 'cnpj')\n",
    "\n",
    "# dropando duplicatas\n",
    "corretoras_tratado = corretoras_tratado.drop_duplicates(\n",
    "    subset='cnpj', keep='last')\n",
    "\n",
    "# COLUNA 'codigo_cvm':\n",
    "# transformar para int\n",
    "fun.transforma_int(corretoras_tratado, 'codigo_cvm')\n",
    "\n",
    "\n",
    "# COLUNA 'valor_patrimonio_liquido', 'logradouro', 'municipio', 'nome_comercial':\n",
    "# remover valores vazios pontuais nas demais colunas que possuem valores vazios\n",
    "fun.string_vazia(corretoras_tratado,\n",
    "                 'valor_patrimonio_liquido')  # * 3 em branco\n",
    "fun.string_vazia(corretoras_tratado, 'logradouro')  # * 1 em branco\n",
    "# * 1 em branco -- se apagar o registro em branco do logradouro, apaga esse registro tb\n",
    "fun.string_vazia(corretoras_tratado, 'municipio')\n",
    "# * 14 valores em branco\n",
    "fun.string_vazia(corretoras_tratado, 'nome_comercial')\n",
    "\n",
    "# valor_patrimonio_liquido\n",
    "corretoras_tratado = corretoras_tratado[corretoras_tratado['valor_patrimonio_liquido'] != '']\n",
    "\n",
    "# logradouro\n",
    "corretoras_tratado = corretoras_tratado[corretoras_tratado['logradouro'] != '']\n",
    "\n",
    "# nome_comercial\n",
    "corretoras_tratado = corretoras_tratado[corretoras_tratado['nome_comercial'] != '']\n",
    "corretoras_tratado = corretoras_tratado[corretoras_tratado['nome_comercial'] != '--']\n",
    "corretoras_tratado = corretoras_tratado[corretoras_tratado['nome_comercial'] != '-----']\n",
    "\n",
    "\n",
    "# COLUNA 'valor_patrimonio_liquido':\n",
    "# transformar para float com duas casas decimais\n",
    "fun.transforma_float(corretoras_tratado, 'valor_patrimonio_liquido')\n",
    "\n",
    "# remover valores = 0\n",
    "corretoras_tratado = corretoras_tratado[corretoras_tratado['valor_patrimonio_liquido'] != 0]\n",
    "\n",
    "# COLUNA 'nome_social', 'nome_comercial', 'logradouro':\n",
    "# strings em maiúsculo\n",
    "fun.texto_em_maiusculo(corretoras_tratado, 'nome_social')\n",
    "fun.texto_em_maiusculo(corretoras_tratado, 'nome_comercial')\n",
    "fun.texto_em_maiusculo(corretoras_tratado, 'logradouro')\n",
    "\n",
    "# COLUNA 'municipio':\n",
    "# retirar caracteres especiais\n",
    "fun.remove_caractere_especial(corretoras_tratado, 'municipio')\n",
    "\n",
    "# TODAS AS COLUNAS\n",
    "# ordenando colunas\n",
    "nova_ordem_colunas = ['codigo_cvm', 'cnpj', 'nome_social',\n",
    "                      'nome_comercial', 'status', 'telefone', 'uf', 'municipio', 'logradouro',\n",
    "                      'data_patrimonio_liquido', 'valor_patrimonio_liquido', 'data_inicio_situacao', 'data_registro']\n",
    "corretoras_tratado = corretoras_tratado[nova_ordem_colunas]\n",
    "\n",
    "\n",
    "# resetando index\n",
    "corretoras_tratado.reset_index(drop=True, inplace=True)\n"
   ]
  },
  {
   "cell_type": "markdown",
   "metadata": {},
   "source": [
    "### Estados\n",
    "- Reordenação de colunas\n",
    "- Tratamento de caracteres especiais\n",
    "- Mudança no nome das colunas\n",
    "- Transformação de campos para int\n",
    "- Transformação de campos string em maiúsculo"
   ]
  },
  {
   "cell_type": "code",
   "execution_count": 12,
   "metadata": {},
   "outputs": [],
   "source": [
    "# reorganizando colunas\n",
    "# COLUNA 'id'\n",
    "id = [estados['id'] for estados in data_estados]\n",
    "\n",
    "# COLUNA 'uf'\n",
    "sigla = [estados['sigla'] for estados in data_estados]\n",
    "\n",
    "# COLUNA 'nome'\n",
    "nome = [estados['nome'] for estados in data_estados]\n",
    "\n",
    "# COLUNA 'regiao'\n",
    "regiao = [estados['regiao']['nome'] for estados in data_estados]\n",
    "\n",
    "# COLUNA 'sigla_regiao'\n",
    "sigla_regiao = [estados['regiao']['sigla'] for estados in data_estados]\n",
    "\n",
    "# adicionando dados tratados em um novo dataframe\n",
    "estados_tratado = pd.DataFrame({\n",
    "    \"uf\": sigla,\n",
    "    \"id\": id,\n",
    "    \"nome\": nome,\n",
    "    \"regiao\": regiao,\n",
    "    \"sigla_regiao\": sigla_regiao\n",
    "})\n",
    "\n",
    "# COLUNA 'nome' e 'regiao':\n",
    "# colocando caracteres em maiusculo\n",
    "fun.texto_em_maiusculo(estados_tratado, 'nome')\n",
    "fun.texto_em_maiusculo(estados_tratado, 'regiao')\n",
    "\n",
    "# tirando caracteres especiais\n",
    "fun.remove_caractere_especial(estados_tratado, 'nome')\n",
    "\n",
    "\n",
    "# COLUNA 'id':\n",
    "# transformando para int\n",
    "fun.transforma_int(estados_tratado, 'id')"
   ]
  },
  {
   "cell_type": "markdown",
   "metadata": {},
   "source": [
    "### Municípios\n",
    "- Remoção de duplicatas\n",
    "- Reordenação de colunas\n",
    "- Tratamento de caracteres especiais\n",
    "- Transformação de campos string em maiúsculo"
   ]
  },
  {
   "cell_type": "code",
   "execution_count": 13,
   "metadata": {},
   "outputs": [],
   "source": [
    "# TODAS AS COLUNAS:\n",
    "# removendo duplicatas\n",
    "municipios.drop_duplicates()\n",
    "\n",
    "# resetando index\n",
    "municipios.reset_index(drop=True, inplace=True)\n",
    "\n",
    "# COLUNA 'nome':\n",
    "# colocando todos os nomes em maíusuculo\n",
    "fun.texto_em_maiusculo(municipios, 'nome')\n",
    "\n",
    "# retirando caracteres especiais\n",
    "fun.remove_caractere_especial(municipios, 'nome')\n",
    "\n",
    "# renomeando a coluna 'nome' para 'municipio'\n",
    "municipios_tratado = municipios.rename(columns={'nome': 'municipio'})\n",
    "\n",
    "# TODAS AS COLUNAS:\n",
    "# reordenando colunas\n",
    "nova_ordem_municipio = ['codigo_ibge', 'municipio', 'uf']\n",
    "municipios_tratado = municipios_tratado[nova_ordem_municipio]"
   ]
  },
  {
   "cell_type": "markdown",
   "metadata": {},
   "source": [
    "## Salvando bases tratadas\n",
    "- Arquivos tratados em .csv \n",
    "- Tabelas armazenadas em um banco de dados"
   ]
  },
  {
   "cell_type": "code",
   "execution_count": 14,
   "metadata": {},
   "outputs": [
    {
     "name": "stdout",
     "output_type": "stream",
     "text": [
      "         name\n",
      "0  corretoras\n",
      "1     estados\n",
      "2  municipios\n"
     ]
    }
   ],
   "source": [
    "# SALVANDO BASES TRATADAS .CSV\n",
    "# corretoras\n",
    "corretoras_tratado.to_csv('01_csv_files/dados_tratados/corretoras_tratado.csv')\n",
    "# se o csv for criado com sucesso, alerta:\n",
    "fun.alerta_etapa_concluida(\n",
    "    '01_csv_files/dados_tratados/corretoras_tratado.csv', 'Corretoras', 'tratada e salva em .csv')\n",
    "\n",
    "\n",
    "# estados\n",
    "estados_tratado.to_csv('01_csv_files/dados_tratados/estados_tratado.csv')\n",
    "# se o csv for criado com sucesso, alerta:\n",
    "fun.alerta_etapa_concluida(\n",
    "    '01_csv_files/dados_tratados/estados_tratado.csv', 'Estados', 'tratada e salva em .csv')\n",
    "\n",
    "\n",
    "# municipios\n",
    "municipios_tratado.to_csv('01_csv_files/dados_tratados/municipios_tratado.csv')\n",
    "# se o csv for criado com sucesso, alerta:\n",
    "fun.alerta_etapa_concluida(\n",
    "    '01_csv_files/dados_tratados/municipios_tratado.csv', 'Municípios', 'tratada e salva em .csv')\n",
    "\n",
    "\n",
    "# ARMAZENANDO DADOS EM UM DB\n",
    "# corretoras\n",
    "fun.salva_bd(corretoras_tratado, 'corretoras')\n",
    "\n",
    "# estados\n",
    "fun.salva_bd(estados_tratado, 'estados')\n",
    "\n",
    "# municipios\n",
    "fun.salva_bd(municipios_tratado, 'municipios')\n",
    "\n",
    "# consultando\n",
    "fun.tabelas_bd()\n"
   ]
  }
 ],
 "metadata": {
  "kernelspec": {
   "display_name": "Python 3",
   "language": "python",
   "name": "python3"
  },
  "language_info": {
   "codemirror_mode": {
    "name": "ipython",
    "version": 3
   },
   "file_extension": ".py",
   "mimetype": "text/x-python",
   "name": "python",
   "nbconvert_exporter": "python",
   "pygments_lexer": "ipython3",
   "version": "3.11.6"
  }
 },
 "nbformat": 4,
 "nbformat_minor": 2
}
